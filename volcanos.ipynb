{
 "cells": [
  {
   "cell_type": "markdown",
   "id": "9ee8d781-642f-4b1c-befd-3e27908a6b4d",
   "metadata": {},
   "source": [
    "# Exploring the Earth's Volcanos #"
   ]
  },
  {
   "cell_type": "markdown",
   "id": "8aa7378f-7041-4941-929a-ade61b1c7dab",
   "metadata": {},
   "source": [
    "<img src=\"toby-elliott-RwkBCZhG9LU-unsplash.jpeg\" style=\"width: 500px;\"/>\n",
    "![Photo by <a href=\"https://unsplash.com/@tobyelliott?utm_source=unsplash&utm_medium=referral&utm_content=creditCopyText\">Toby Elliott</a> on <a href=\"https://unsplash.com/s/photos/volcano?utm_source=unsplash&utm_medium=referral&utm_content=creditCopyText\">Unsplash</a>]\n"
   ]
  },
  {
   "cell_type": "code",
   "execution_count": 23,
   "id": "8f28d582-be00-4969-82d9-4d0009e40ebf",
   "metadata": {},
   "outputs": [
    {
     "data": {
      "text/html": [
       "<div>\n",
       "<style scoped>\n",
       "    .dataframe tbody tr th:only-of-type {\n",
       "        vertical-align: middle;\n",
       "    }\n",
       "\n",
       "    .dataframe tbody tr th {\n",
       "        vertical-align: top;\n",
       "    }\n",
       "\n",
       "    .dataframe thead th {\n",
       "        text-align: right;\n",
       "    }\n",
       "</style>\n",
       "<table border=\"1\" class=\"dataframe\">\n",
       "  <thead>\n",
       "    <tr style=\"text-align: right;\">\n",
       "      <th></th>\n",
       "      <th>Country</th>\n",
       "      <th>HoloceneVolcanoes</th>\n",
       "      <th>Active since1800 CE</th>\n",
       "      <th>Active since1950 CE</th>\n",
       "      <th>Currently Erupting (27 January 2022)</th>\n",
       "    </tr>\n",
       "  </thead>\n",
       "  <tbody>\n",
       "    <tr>\n",
       "      <th>0</th>\n",
       "      <td>Algeria</td>\n",
       "      <td>3</td>\n",
       "      <td>0</td>\n",
       "      <td>0</td>\n",
       "      <td>NaN</td>\n",
       "    </tr>\n",
       "    <tr>\n",
       "      <th>1</th>\n",
       "      <td>Antarctica</td>\n",
       "      <td>19</td>\n",
       "      <td>5</td>\n",
       "      <td>2</td>\n",
       "      <td>Erebus</td>\n",
       "    </tr>\n",
       "    <tr>\n",
       "      <th>2</th>\n",
       "      <td>Argentina</td>\n",
       "      <td>36</td>\n",
       "      <td>6</td>\n",
       "      <td>3</td>\n",
       "      <td>NaN</td>\n",
       "    </tr>\n",
       "    <tr>\n",
       "      <th>3</th>\n",
       "      <td>Armenia</td>\n",
       "      <td>5</td>\n",
       "      <td>0</td>\n",
       "      <td>0</td>\n",
       "      <td>NaN</td>\n",
       "    </tr>\n",
       "    <tr>\n",
       "      <th>4</th>\n",
       "      <td>Australia</td>\n",
       "      <td>3</td>\n",
       "      <td>2</td>\n",
       "      <td>2</td>\n",
       "      <td>NaN</td>\n",
       "    </tr>\n",
       "  </tbody>\n",
       "</table>\n",
       "</div>"
      ],
      "text/plain": [
       "      Country  HoloceneVolcanoes  Active since1800 CE  Active since1950 CE  \\\n",
       "0     Algeria                  3                    0                    0   \n",
       "1  Antarctica                 19                    5                    2   \n",
       "2   Argentina                 36                    6                    3   \n",
       "3     Armenia                  5                    0                    0   \n",
       "4   Australia                  3                    2                    2   \n",
       "\n",
       "  Currently Erupting (27 January 2022)  \n",
       "0                                  NaN  \n",
       "1                               Erebus  \n",
       "2                                  NaN  \n",
       "3                                  NaN  \n",
       "4                                  NaN  "
      ]
     },
     "execution_count": 23,
     "metadata": {},
     "output_type": "execute_result"
    }
   ],
   "source": [
    "# first read in the data\n",
    "import pandas as pd\n",
    "\n",
    "# okay...3 hours later (in SpongeBob narrator voice of course), wussed out and converted xmls\n",
    "# fingers crossed\n",
    "\n",
    "younger = pd.read_excel('GVP_Volcano_List_Holocene_2.xlsx')\n",
    "older = pd.read_excel('GVP_Volcano_List_Pleistocene_2.xlsx')\n",
    "\n",
    "countries = pd.read_html('https://volcano.si.edu/volcanolist_countries.cfm')[0]\n",
    "\n",
    "countries.head()"
   ]
  },
  {
   "cell_type": "code",
   "execution_count": 26,
   "id": "2a33cd39-8782-4e26-8735-8a7e073b2f29",
   "metadata": {},
   "outputs": [
    {
     "data": {
      "text/html": [
       "<div>\n",
       "<style scoped>\n",
       "    .dataframe tbody tr th:only-of-type {\n",
       "        vertical-align: middle;\n",
       "    }\n",
       "\n",
       "    .dataframe tbody tr th {\n",
       "        vertical-align: top;\n",
       "    }\n",
       "\n",
       "    .dataframe thead th {\n",
       "        text-align: right;\n",
       "    }\n",
       "</style>\n",
       "<table border=\"1\" class=\"dataframe\">\n",
       "  <thead>\n",
       "    <tr style=\"text-align: right;\">\n",
       "      <th></th>\n",
       "    </tr>\n",
       "  </thead>\n",
       "  <tbody>\n",
       "  </tbody>\n",
       "</table>\n",
       "</div>"
      ],
      "text/plain": [
       "Empty DataFrame\n",
       "Columns: []\n",
       "Index: []"
      ]
     },
     "execution_count": 26,
     "metadata": {},
     "output_type": "execute_result"
    }
   ],
   "source": [
    "# feel bad about \"cheating\", but IT WORKED!!\n",
    "younger\n",
    "# UGH NO IT DIDN'T >>>>>>>:-|"
   ]
  },
  {
   "cell_type": "markdown",
   "id": "8008e79f-c6df-40bf-8572-19cec9707701",
   "metadata": {},
   "source": [
    "There is something wrong with those files. Google sheets won't open them either."
   ]
  },
  {
   "cell_type": "markdown",
   "id": "46a3be3d-eaea-457b-867e-95ec9097220d",
   "metadata": {},
   "source": [
    "Okie dokie...let's do this:"
   ]
  },
  {
   "cell_type": "code",
   "execution_count": 27,
   "id": "51f9c29f-2d1f-4ab6-bef5-4e2431206157",
   "metadata": {},
   "outputs": [
    {
     "data": {
      "text/html": [
       "<div>\n",
       "<style scoped>\n",
       "    .dataframe tbody tr th:only-of-type {\n",
       "        vertical-align: middle;\n",
       "    }\n",
       "\n",
       "    .dataframe tbody tr th {\n",
       "        vertical-align: top;\n",
       "    }\n",
       "\n",
       "    .dataframe thead th {\n",
       "        text-align: right;\n",
       "    }\n",
       "</style>\n",
       "<table border=\"1\" class=\"dataframe\">\n",
       "  <thead>\n",
       "    <tr style=\"text-align: right;\">\n",
       "      <th></th>\n",
       "      <th>Name</th>\n",
       "      <th>Subregion</th>\n",
       "      <th>Volcano Type</th>\n",
       "      <th>Evidence</th>\n",
       "    </tr>\n",
       "  </thead>\n",
       "  <tbody>\n",
       "    <tr>\n",
       "      <th>0</th>\n",
       "      <td>Abu</td>\n",
       "      <td>Honshu</td>\n",
       "      <td>Shield(s)</td>\n",
       "      <td>Eruption Dated</td>\n",
       "    </tr>\n",
       "    <tr>\n",
       "      <th>1</th>\n",
       "      <td>Acamarachi</td>\n",
       "      <td>Northern Chile, Bolivia and Argentina</td>\n",
       "      <td>Stratovolcano</td>\n",
       "      <td>Evidence Credible</td>\n",
       "    </tr>\n",
       "    <tr>\n",
       "      <th>2</th>\n",
       "      <td>Acatenango</td>\n",
       "      <td>Guatemala</td>\n",
       "      <td>Stratovolcano(es)</td>\n",
       "      <td>Eruption Observed</td>\n",
       "    </tr>\n",
       "    <tr>\n",
       "      <th>3</th>\n",
       "      <td>Acigol-Nevsehir</td>\n",
       "      <td>Turkey</td>\n",
       "      <td>Caldera</td>\n",
       "      <td>Eruption Dated</td>\n",
       "    </tr>\n",
       "    <tr>\n",
       "      <th>4</th>\n",
       "      <td>Adams</td>\n",
       "      <td>USA (Washington)</td>\n",
       "      <td>Stratovolcano</td>\n",
       "      <td>Eruption Dated</td>\n",
       "    </tr>\n",
       "  </tbody>\n",
       "</table>\n",
       "</div>"
      ],
      "text/plain": [
       "              Name                              Subregion       Volcano Type  \\\n",
       "0              Abu                                 Honshu          Shield(s)   \n",
       "1       Acamarachi  Northern Chile, Bolivia and Argentina      Stratovolcano   \n",
       "2       Acatenango                              Guatemala  Stratovolcano(es)   \n",
       "3  Acigol-Nevsehir                                 Turkey            Caldera   \n",
       "4            Adams                       USA (Washington)      Stratovolcano   \n",
       "\n",
       "            Evidence  \n",
       "0     Eruption Dated  \n",
       "1  Evidence Credible  \n",
       "2  Eruption Observed  \n",
       "3     Eruption Dated  \n",
       "4     Eruption Dated  "
      ]
     },
     "execution_count": 27,
     "metadata": {},
     "output_type": "execute_result"
    }
   ],
   "source": [
    "holocene = pd.read_html('https://volcano.si.edu/volcanolist_holocene.cfm')[0]\n",
    "pleis = pd.read_html('https://volcano.si.edu/volcanolist_pleistocene.cfm')[0]\n",
    "\n",
    "holocene.head()"
   ]
  },
  {
   "cell_type": "code",
   "execution_count": 28,
   "id": "ddeec62c-6941-4307-8ca3-d963a7ef1b2f",
   "metadata": {},
   "outputs": [
    {
     "data": {
      "text/html": [
       "<div>\n",
       "<style scoped>\n",
       "    .dataframe tbody tr th:only-of-type {\n",
       "        vertical-align: middle;\n",
       "    }\n",
       "\n",
       "    .dataframe tbody tr th {\n",
       "        vertical-align: top;\n",
       "    }\n",
       "\n",
       "    .dataframe thead th {\n",
       "        text-align: right;\n",
       "    }\n",
       "</style>\n",
       "<table border=\"1\" class=\"dataframe\">\n",
       "  <thead>\n",
       "    <tr style=\"text-align: right;\">\n",
       "      <th></th>\n",
       "      <th>Name</th>\n",
       "      <th>Subregion</th>\n",
       "      <th>Volcano Type</th>\n",
       "      <th>Unnamed: 3</th>\n",
       "    </tr>\n",
       "  </thead>\n",
       "  <tbody>\n",
       "    <tr>\n",
       "      <th>0</th>\n",
       "      <td>Aak</td>\n",
       "      <td>Kamchatka Peninsula</td>\n",
       "      <td>Stratovolcano(es)</td>\n",
       "      <td>NaN</td>\n",
       "    </tr>\n",
       "    <tr>\n",
       "      <th>1</th>\n",
       "      <td>Acatlan Volcanic Field</td>\n",
       "      <td>Mexico</td>\n",
       "      <td>Caldera</td>\n",
       "      <td>NaN</td>\n",
       "    </tr>\n",
       "    <tr>\n",
       "      <th>2</th>\n",
       "      <td>Acoculco</td>\n",
       "      <td>Mexico</td>\n",
       "      <td>Caldera</td>\n",
       "      <td>NaN</td>\n",
       "    </tr>\n",
       "    <tr>\n",
       "      <th>3</th>\n",
       "      <td>Acotango</td>\n",
       "      <td>Northern Chile, Bolivia and Argentina</td>\n",
       "      <td>Stratovolcano(es)</td>\n",
       "      <td>NaN</td>\n",
       "    </tr>\n",
       "    <tr>\n",
       "      <th>4</th>\n",
       "      <td>Acquasparta</td>\n",
       "      <td>Italy</td>\n",
       "      <td>Volcanic field</td>\n",
       "      <td>NaN</td>\n",
       "    </tr>\n",
       "  </tbody>\n",
       "</table>\n",
       "</div>"
      ],
      "text/plain": [
       "                     Name                              Subregion  \\\n",
       "0                     Aak                    Kamchatka Peninsula   \n",
       "1  Acatlan Volcanic Field                                 Mexico   \n",
       "2                Acoculco                                 Mexico   \n",
       "3                Acotango  Northern Chile, Bolivia and Argentina   \n",
       "4             Acquasparta                                  Italy   \n",
       "\n",
       "        Volcano Type  Unnamed: 3  \n",
       "0  Stratovolcano(es)         NaN  \n",
       "1            Caldera         NaN  \n",
       "2            Caldera         NaN  \n",
       "3  Stratovolcano(es)         NaN  \n",
       "4     Volcanic field         NaN  "
      ]
     },
     "execution_count": 28,
     "metadata": {},
     "output_type": "execute_result"
    }
   ],
   "source": [
    "# FINALLY!!!!!!\n",
    "pleis.head()"
   ]
  },
  {
   "cell_type": "code",
   "execution_count": 30,
   "id": "88a18706-5867-4d3f-8c8f-522a7629e043",
   "metadata": {},
   "outputs": [
    {
     "name": "stdout",
     "output_type": "stream",
     "text": [
      "There are 1343 holocene volcanos and 1319 pleistocene volcanos.\n"
     ]
    }
   ],
   "source": [
    "print(\"There are {} holocene volcanos and {} pleistocene volcanos.\".format(holocene.shape[0], pleis.shape[0]))"
   ]
  },
  {
   "cell_type": "code",
   "execution_count": null,
   "id": "0313832c-fe28-47bf-97e4-33adf833360d",
   "metadata": {},
   "outputs": [],
   "source": []
  }
 ],
 "metadata": {
  "kernelspec": {
   "display_name": "Python 3 (ipykernel)",
   "language": "python",
   "name": "python3"
  },
  "language_info": {
   "codemirror_mode": {
    "name": "ipython",
    "version": 3
   },
   "file_extension": ".py",
   "mimetype": "text/x-python",
   "name": "python",
   "nbconvert_exporter": "python",
   "pygments_lexer": "ipython3",
   "version": "3.9.7"
  }
 },
 "nbformat": 4,
 "nbformat_minor": 5
}
