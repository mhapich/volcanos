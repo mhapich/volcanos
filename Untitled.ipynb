{
 "cells": [
  {
   "cell_type": "markdown",
   "id": "9ee8d781-642f-4b1c-befd-3e27908a6b4d",
   "metadata": {},
   "source": [
    "# Exploring the Earth's Volcanos #"
   ]
  },
  {
   "cell_type": "markdown",
   "id": "8aa7378f-7041-4941-929a-ade61b1c7dab",
   "metadata": {},
   "source": [
    "![Photo by <a href=\"https://unsplash.com/@tobyelliott?utm_source=unsplash&utm_medium=referral&utm_content=creditCopyText\">Toby Elliott</a> on <a href=\"https://unsplash.com/s/photos/volcano?utm_source=unsplash&utm_medium=referral&utm_content=creditCopyText\">Unsplash</a>]\n",
    "<img src=\"toby-elliott-RwkBCZhG9LU-unsplash.jpeg\" style=\"width: 500px;\"/>"
   ]
  },
  {
   "cell_type": "code",
   "execution_count": null,
   "id": "8f28d582-be00-4969-82d9-4d0009e40ebf",
   "metadata": {},
   "outputs": [],
   "source": []
  }
 ],
 "metadata": {
  "kernelspec": {
   "display_name": "Python 3 (ipykernel)",
   "language": "python",
   "name": "python3"
  },
  "language_info": {
   "codemirror_mode": {
    "name": "ipython",
    "version": 3
   },
   "file_extension": ".py",
   "mimetype": "text/x-python",
   "name": "python",
   "nbconvert_exporter": "python",
   "pygments_lexer": "ipython3",
   "version": "3.9.7"
  }
 },
 "nbformat": 4,
 "nbformat_minor": 5
}
